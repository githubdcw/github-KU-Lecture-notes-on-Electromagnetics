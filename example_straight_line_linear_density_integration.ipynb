{
  "nbformat": 4,
  "nbformat_minor": 0,
  "metadata": {
    "colab": {
      "provenance": [],
      "include_colab_link": true
    },
    "kernelspec": {
      "name": "python3",
      "display_name": "Python 3"
    },
    "language_info": {
      "name": "python"
    }
  },
  "cells": [
    {
      "cell_type": "markdown",
      "metadata": {
        "id": "view-in-github",
        "colab_type": "text"
      },
      "source": [
        "<a href=\"https://colab.research.google.com/github/githubdcw/github-KU-Lecture-notes-on-Electromagnetics/blob/main/example_straight_line_linear_density_integration.ipynb\" target=\"_parent\"><img src=\"https://colab.research.google.com/assets/colab-badge.svg\" alt=\"Open In Colab\"/></a>"
      ]
    },
    {
      "cell_type": "markdown",
      "metadata": {
        "id": "Y0AMKfFCQJ_p"
      },
      "source": [
        "# ตัวอย่างการหาน้ำหนักของเส้นลวด"
      ]
    },
    {
      "cell_type": "markdown",
      "metadata": {
        "id": "D3TAh9DJ_KzI"
      },
      "source": [
        "จงหาน้ำหนักของเส้นลวดตรงยาว 2 เมตร หนัก 5 kg/m  \n",
        "เนื่องจากความหนาแน่นของเส้นลวดมีค่าคงที่เราสามารถเอาความยาวมาคูณกับความหนาแน่น  \n",
        "จะได้น้ำหนักสุทธิของเส้นลวดคือ $5\\times2 = 10$  \n"
      ]
    },
    {
      "cell_type": "markdown",
      "metadata": {
        "id": "uMD4fR1cAEE-"
      },
      "source": [
        "จงหาน้ำหนักของเส้นลวดตรงยาว $L$ เมตร หนัก $6x$ kg/m เมื่อ $x$ คือตำแหน่งของจุดบนเส้นลวด    \n",
        "เนื่องจากความหนาแน่นเปลี่ยนแปลงตามตำแหน่งของเส้นลวดดังนั้นเราจะต้องถามว่าเส้นลวดวางอย่างไร  \n",
        "เช่นถ้าเส้นลวดวางอยู่บนแกน $y$ แปลว่า $x=0$ ทุกๆจุดบนบนเส้นลวดจะได้ว่าน้ำหนักของเส้นลวดนี้จะเท่ากับศูนย์  \n",
        "แต่ถ้าเส้นลวดวางอยู่บนแกน $x$ โดยเริ่มจาก $x=0$ ถึง $x=L$ เราจะเห็นว่าที่ต่ำแหน่งต่างๆบนเส้นลวดมีความหนาแน่นไม่เท่ากัน เราไม่สามารถเอาความหนาแน่นคูณความยาวได้ตรงๆ เพราะถ้าเราทำเช่นนั้นเราจะได้ได้ว่าน้ำหนักของเส้นลวดจะมีค่าเท่ากับ $6x \\times L = 6L x$ kg ซึ่งเราไม่รู้ว่าค่านี้หมายความว่าอย่างไร ไม่สามารถรู้สึกได้ว่ามันหนักเท่าไหร่ ค่าที่ได้ต้องเป็นตัวเลขไม่ใช่ค่าที่ยังมีตัวแปร $x$ อยู่     \n"
      ]
    },
    {
      "cell_type": "markdown",
      "metadata": {
        "id": "_Lu8_81cC_3f"
      },
      "source": [
        "เราสามารถประมาณน้ำหนักได้โดยการแบ่งเส้นลวดเป็น $N$ ส่วนเท่าๆกัน โดยสมมุติว่าแต่ละส่วนมีความหนาแน่นคงที่เท่ากับค่าที่จุดกึ่งกลางของแต่ละส่วนเช่น  \n",
        "- ถ้าให้ $N=1$ เราจะได้ว่าความยาวของแต่ละชิ้นเท่ากับ $L$ เมตร\n",
        "  - จุดกึ่งกลางของชิ่นที่ 1 อยู่ที่ $x = \\frac{L}{2}$ ความหน่าแน่นเท่ากับ $6x = 6\\frac{L}{2}$ kg/m       \n",
        "  - น้ำหนักเท่ากับ $6 \\frac{L}{2}\\times L =3L^2$kg   \n",
        "- ถ้าให้ $N=2$ เราจะได้ว่าความยาวของแต่ละชิ้นเท่ากับ $\\frac{L}{2}$ เมตร\n",
        "  - จุดกึ่งกลางของชิ่นที่ 1 อยู่ที่ $x = \\frac{L}{4}$  ความหน่าแน่นเท่ากับ $6x=6 \\frac{L}{4}$ kg/m   \n",
        "  - จุดกึ่งกลางของชิ่นที่ 2 อยู่ที่ $x = \\frac{3L}{4}$  ความหน่าแน่นเท่ากับ  $6x = 6 \\frac{3L}{4}$ kg/m   \n",
        "  - น้ำหนักเท่ากับ $6 \\frac{L}{4} \\times \\frac{L}{2}+6 \\frac{3L}{4} \\times \\frac{L}{2} = 3L^2 $kg/m   \n",
        "- ถ้าให้ $N=4$ เราจะได้ว่าความยาวของแต่ละชิ้นเท่ากับ $\\frac{L}{4}$ เมตร\n",
        "  - จุดกึ่งกลางของชิ่นที่ 1 อยู่ที่ $x = \\frac{L}{8}$  ความหน่าแน่นเท่ากับ $6x=6 \\frac{L}{8}$ kg/m   \n",
        "  - จุดกึ่งกลางของชิ่นที่ 2 อยู่ที่ $x = \\frac{3L}{8}$  ความหน่าแน่นเท่ากับ $6x=6 \\frac{3L}{8}$ kg/m   \n",
        "  - จุดกึ่งกลางของชิ่นที่ 3 อยู่ที่ $x = \\frac{5L}{8}$  ความหน่าแน่นเท่ากับ $6x=6 \\frac{5L}{8}$ kg/m   \n",
        "  - จุดกึ่งกลางของชิ่นที่ 4 อยู่ที่ $x = \\frac{7L}{8}$  ความหน่าแน่นเท่ากับ $6x=6 \\frac{7L}{8}$ kg/m   \n",
        "  - น้ำหนักเท่ากับ\n",
        "  \\begin{equation*}\n",
        "6 \\frac{L}{8} \\times \\frac{L}{4}\n",
        "  +6 \\frac{3L}{8} \\times \\frac{L}{4}\n",
        "  +6 \\frac{5L}{8} \\times \\frac{L}{4}\n",
        "  +6 \\frac{7L}{8} \\times \\frac{L}{4}\n",
        "  \\\\\n",
        "  = \\frac{3L^2}{2} \\times \\frac{1+3+5+7}{8}\n",
        "  \\end{equation*}   \n",
        "  $=3L^2$ kg  \n",
        "\n",
        "จะเห็นว่าเราสามารถเขียนเป็นสมการได้ดังนี้ $W \\approx \\sum_{i=1}^N 6x_i \\Delta x_i$  \n",
        "เราสามารถเขียนโปรแกรมได้ตาม Python Code ด้านล่าง\n"
      ]
    },
    {
      "cell_type": "code",
      "metadata": {
        "colab": {
          "base_uri": "https://localhost:8080/"
        },
        "id": "HWAKrxjxJ7DM",
        "outputId": "5ce9837d-e3f5-4844-de56-3ae64e296a10"
      },
      "source": [
        "import numpy as np\n",
        "N = 4\n",
        "L = 2\n",
        "del_x = L/N\n",
        "x = del_x*np.array(range(N))+del_x/2\n",
        "print(x)\n",
        "weight = 0\n",
        "for ii in range(N):\n",
        "  weight = weight+(6*x[ii])*del_x\n",
        "print(weight)"
      ],
      "execution_count": 2,
      "outputs": [
        {
          "output_type": "stream",
          "name": "stdout",
          "text": [
            "[0.25 0.75 1.25 1.75]\n",
            "12.0\n"
          ]
        }
      ]
    },
    {
      "cell_type": "markdown",
      "metadata": {
        "id": "r2caJhrPLVpX"
      },
      "source": [
        "ทดลองปรับค่า N เป็นค่าต่างๆ"
      ]
    },
    {
      "cell_type": "code",
      "metadata": {
        "colab": {
          "base_uri": "https://localhost:8080/",
          "height": 430
        },
        "id": "-ET252crLY5k",
        "outputId": "b2bb0393-6daf-4f23-e678-f641c0186fca"
      },
      "source": [
        "import numpy as np\n",
        "import matplotlib.pyplot as plt\n",
        "N = 4\n",
        "L = 2\n",
        "w = []\n",
        "for N in range(1,11):\n",
        "  del_x = L/N\n",
        "  x = del_x*np.array(range(N))+del_x/2\n",
        "  # print(x)\n",
        "  weight = 0\n",
        "  for ii in range(N):\n",
        "    weight = weight+(6*x[ii])*del_x\n",
        "  w.append(weight)\n",
        "plt.plot(range(1,11),w)\n",
        "plt.grid()\n",
        "plt.show()"
      ],
      "execution_count": 3,
      "outputs": [
        {
          "output_type": "display_data",
          "data": {
            "text/plain": [
              "<Figure size 640x480 with 1 Axes>"
            ],
            "image/png": "[encoded data removed]"
          },
          "metadata": {}
        }
      ]
    },
    {
      "cell_type": "markdown",
      "metadata": {
        "id": "2oU_s5vbLrhX"
      },
      "source": [
        "ถ้าเราให้ N มากขึ้นค่าน้ำหนักที่ได้จะลู่เข้าค่าจริง ถ้าเราต้องการค่าจริงเราต้องแบ่งเป็น $\\infty$ ส่วน เราจะได้สมการ $W = \\sum_{i=1}^\\infty 6x_i \\Delta x_i$  \n",
        "เมื่อ $\\Delta x \\rightarrow 0$ เราจะได้ว่า $\\sum_{i=1}^\\infty \\rightarrow \\int$ และ $\\Delta x \\rightarrow d x$ ดังนั้น $W = \\int_{i=1}^{i= \\infty} 6x d x$ และ $i=1$ คือ $x=0$ และ $i=\\infty$ คือ $x=L$ ดังนั้นเราจะได้สมการดังนี้     \n",
        "\\begin{gather*}\n",
        "W = \\int_{x=0}^{x= L} 6x d x\\\\\n",
        "W =  6\\frac{x^2}{2}|_{x=0}^{x= L}\\\\\n",
        "W =  6\\frac{L^2}{2}=6\\frac{L^2}{2} = 3 L^2\n",
        "\\end{gather*}\n",
        "\n",
        "ความหนาแน่นที่ให้เป็น linear function ทำให้การประมาณค่าที่จุดกึ่งกลางก็สามารถหาค่าได้เท่ากับค่าจริง"
      ]
    }
  ]
}