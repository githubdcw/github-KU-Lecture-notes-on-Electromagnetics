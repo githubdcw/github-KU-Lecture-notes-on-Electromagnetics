{
  "nbformat": 4,
  "nbformat_minor": 0,
  "metadata": {
    "colab": {
      "name": "example_find_length_and_weight_curve.ipynb",
      "provenance": [],
      "toc_visible": true,
      "authorship_tag": "ABX9TyNzbhadi5KabouSEg77X0J7",
      "include_colab_link": true
    },
    "kernelspec": {
      "name": "python3",
      "display_name": "Python 3"
    },
    "language_info": {
      "name": "python"
    }
  },
  "cells": [
    {
      "cell_type": "markdown",
      "metadata": {
        "id": "view-in-github",
        "colab_type": "text"
      },
      "source": [
        "<a href=\"https://colab.research.google.com/github/githubdcw/github-KU-Lecture-notes-on-Electromagnetics/blob/main/example_find_length_and_weight_curve.ipynb\" target=\"_parent\"><img src=\"https://colab.research.google.com/assets/colab-badge.svg\" alt=\"Open In Colab\"/></a>"
      ]
    },
    {
      "cell_type": "code",
      "metadata": {
        "id": "8t58miKudIrP"
      },
      "source": [
        ""
      ],
      "execution_count": null,
      "outputs": []
    },
    {
      "cell_type": "markdown",
      "metadata": {
        "id": "i52AcFY5dPDa"
      },
      "source": [
        "# จงหาความยาวของเส้นโค้งที่เขียนด้วยสมการ $y = x^2$ เมื่อ $0<x<2$  \n"
      ]
    },
    {
      "cell_type": "markdown",
      "metadata": {
        "id": "LwkkWTnUdfKy"
      },
      "source": [
        "กราฟด้านล้างแสดงเส้นโค้ง"
      ]
    },
    {
      "cell_type": "code",
      "metadata": {
        "colab": {
          "base_uri": "https://localhost:8080/",
          "height": 265
        },
        "id": "Xw6r8bR6dkdq",
        "outputId": "16a09721-9974-41e0-af0f-5fc0e51691a9"
      },
      "source": [
        "import numpy as np\n",
        "import matplotlib.pyplot as plt\n",
        "N = 40\n",
        "L = 2\n",
        "dx = L/N\n",
        "x = dx*np.array(range(N+1))\n",
        "y = x**2\n",
        "fig, ax = plt.subplots()\n",
        "ax.plot(x, y)\n",
        "ax.grid()\n",
        "ax.set_aspect('equal', adjustable='box')\n",
        "plt.show()"
      ],
      "execution_count": 1,
      "outputs": [
        {
          "output_type": "display_data",
          "data": {
            "image/png": "[encoded data removed]",
            "text/plain": [
              "<Figure size 432x288 with 1 Axes>"
            ]
          },
          "metadata": {
            "needs_background": "light"
          }
        }
      ]
    },
    {
      "cell_type": "markdown",
      "metadata": {
        "id": "aNA431xneLry"
      },
      "source": [
        "เราสามารถประมาณความยาวโดยแบ่งเส้นโค้งเป็น N ส่วน เช่น  \n",
        "- ถ้าให้ $N=1$ เราจะได้ว่า \n",
        "  - ความยาวของชิ้นที่ 1 เท่ากับ $\\sqrt{\\Delta x_1^2 + \\Delta y_1^2} =  \\sqrt{2^2 + 4^2} = 4.47$m    \n",
        "- ถ้าให้ $N=2$ เราจะได้ว่า \n",
        "  - ความยาวของชิ้นที่ 2 เท่ากับ $\\sqrt{\\Delta x_1^2 + \\Delta y_1^2}+ \\sqrt{\\Delta x_2^2 + \\Delta y_2^2} =  \\sqrt{1^2 + 1^2} + \\sqrt{1^2 + 3^2}= 4.57$m  \n",
        "\n",
        "หรือเราสามารถเขียนเป็นสมการได้ดังนี้ $L \\approx \\sum_{i=1}^N \\sqrt{\\Delta x_i^2 + \\Delta y_i^2}$  \n",
        "เราสามารถเขียนโปรแกรมได้ตาม Python Code ด้านล่าง\n",
        "\n",
        "\n"
      ]
    },
    {
      "cell_type": "code",
      "metadata": {
        "colab": {
          "base_uri": "https://localhost:8080/"
        },
        "id": "6a1Or2xnfu9D",
        "outputId": "87d7a68f-c132-45af-dc64-63acb24b51f0"
      },
      "source": [
        "import numpy as np\n",
        "N = 4\n",
        "L = 2\n",
        "del_x = L/N \n",
        "x = del_x*np.array(range(N+1))\n",
        "y = x**2\n",
        "dy = y[1:]-y[:N]\n",
        "print(x)\n",
        "Length = 0\n",
        "for ii in range(N):\n",
        "  Length = Length+(del_x**2+dy[ii]**2)**0.5\n",
        "print(dy)\n",
        "print(Length)"
      ],
      "execution_count": 2,
      "outputs": [
        {
          "output_type": "stream",
          "name": "stdout",
          "text": [
            "[0.  0.5 1.  1.5 2. ]\n",
            "[0.25 0.75 1.25 1.75]\n",
            "4.6267234873447\n"
          ]
        }
      ]
    },
    {
      "cell_type": "markdown",
      "metadata": {
        "id": "0Y8TnQntuF5D"
      },
      "source": [
        "# หาค่าประมาณของความยาวโดยเพิ่มจำนวนการแบ่งส่วงของปัญหาเป็น $N$ ชิ้น โดยให้ $1<N<10$  "
      ]
    },
    {
      "cell_type": "code",
      "metadata": {
        "colab": {
          "base_uri": "https://localhost:8080/",
          "height": 267
        },
        "id": "F4ZfvEoxhhUL",
        "outputId": "fa8816c2-b4b4-4322-e07a-b168c46457e8"
      },
      "source": [
        "import numpy as np\n",
        "import matplotlib.pyplot as plt\n",
        "L = 2\n",
        "Length = []\n",
        "for N in range(1,11):\n",
        "  del_x = L/N \n",
        "  x = del_x*np.array(range(N+1))\n",
        "  y = x**2\n",
        "  dy = y[1:]-y[:N]\n",
        "  tmp = 0\n",
        "  for ii in range(N):\n",
        "    tmp = tmp+(del_x**2+dy[ii]**2)**0.5\n",
        "  Length.append(tmp)\n",
        "plt.plot(range(1,11),Length)\n",
        "plt.grid()\n",
        "plt.show()"
      ],
      "execution_count": 3,
      "outputs": [
        {
          "output_type": "display_data",
          "data": {
            "image/png": "[encoded data removed]",
            "text/plain": [
              "<Figure size 432x288 with 1 Axes>"
            ]
          },
          "metadata": {
            "needs_background": "light"
          }
        }
      ]
    },
    {
      "cell_type": "markdown",
      "metadata": {
        "id": "FZBBj7aFiRkz"
      },
      "source": [
        "ถ้าเราให้ N มากขึ้นค่าน้ำหนักที่ได้จะลู่เข้าค่าจริง ถ้าเราต้องการค่าจริงเราต้องแบ่งเป็น $\\infty$ ส่วน เราจะได้สมการ $L = \\sum_{i=1}^\\infty \\sqrt{\\Delta x_i^2+ \\Delta y_i^2}$  \n",
        "เมื่อ $\\Delta x \\rightarrow 0$ เราจะได้ว่า $\\sum_{i=1}^\\infty \\rightarrow \\int$ และ $\\Delta x \\rightarrow d x$ ดังนั้น $L = \\int_{i=1}^{i= \\infty} \\sqrt{dx^2 +dy^2}$ และ $i=1$ คือ $x=0$ และ $i=\\infty$ คือ $x=2$ ดังนั้นเราจะได้สมการดังนี้     \n",
        "$$\n",
        "L = \\int_{x=0}^{x= 2} \\sqrt{dx^2+ dy^2} \n",
        "$$\n",
        "เนื่องจากความสัมพันธ์ระหว่าง $x$ กับ $y$ คือ $y = x^2$ ดังนั้น เราจะได้ว่า $dy = dx^2 =2x dx$  \n",
        "$$\n",
        "L = \\int_{x=0}^{x= 2} \\sqrt{dx^2+ (2x dx)^2} \n",
        "$$\n",
        "$$\n",
        "L = \\int_{x=0}^{x= 2} \\sqrt{1+ 4x^2}dx \n",
        "$$\n",
        "หาค่าโดย [https://www.integral-calculator.com/](https://www.integral-calculator.com/)\n",
        "$$\n",
        "L = \\int_{x=0}^{x= 2} \\sqrt{1+ 4x^2} = 4.65 \n",
        "$$\n",
        "จะเห็นว่าถ้าเราประมาณโดยแบ่งเป็น 4 ส่วนเราได้ค่าเท่ากับ 4.63 ซึ่งมีความผิดพลาดเท่ากับ $ \\frac{4.65-4.63}{4.65} \\times 100 =0.43$%"
      ]
    }
  ]
}