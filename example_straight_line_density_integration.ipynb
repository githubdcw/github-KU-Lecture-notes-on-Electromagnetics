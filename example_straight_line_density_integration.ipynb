{
  "nbformat": 4,
  "nbformat_minor": 0,
  "metadata": {
    "colab": {
      "name": "example_straight_line_density_integration.ipynb",
      "provenance": [],
      "include_colab_link": true
    },
    "kernelspec": {
      "name": "python3",
      "display_name": "Python 3"
    },
    "language_info": {
      "name": "python"
    }
  },
  "cells": [
    {
      "cell_type": "markdown",
      "metadata": {
        "id": "view-in-github",
        "colab_type": "text"
      },
      "source": [
        "<a href=\"https://colab.research.google.com/github/githubdcw/github-KU-Lecture-notes-on-Electromagnetics/blob/main/example_straight_line_density_integration.ipynb\" target=\"_parent\"><img src=\"https://colab.research.google.com/assets/colab-badge.svg\" alt=\"Open In Colab\"/></a>"
      ]
    },
    {
      "cell_type": "markdown",
      "metadata": {
        "id": "Y0AMKfFCQJ_p"
      },
      "source": [
        "# ตัวอย่างการหาน้ำหนักของเส้นลวด"
      ]
    },
    {
      "cell_type": "markdown",
      "metadata": {
        "id": "D3TAh9DJ_KzI"
      },
      "source": [
        "จงหาน้ำหนักของเส้นลวดตรงยาว 2 เมตร หนัก 5 kg/m  \n",
        "เนื่องจากความหนาแน่นของเส้นลวดมีค่าคงที่เราสามารถเอาความยาวมาคูณกับความหนาแน่น  \n",
        "จะได้น้ำหนักสุทธิของเส้นลวดคือ $5\\times2 = 10$  \n"
      ]
    },
    {
      "cell_type": "markdown",
      "metadata": {
        "id": "uMD4fR1cAEE-"
      },
      "source": [
        "จงหาน้ำหนักของเส้นลวดตรงยาว 2 เมตร หนัก $x^2$kg/m เมื่อ $x$ คือตำแหน่งของจุดบนเส้นลวด    \n",
        "เนื่องจากความหนาแน่นเปลี่ยนแปลงตามตำแหน่งของเส้นลวดดังนั้นเราจะต้องถามว่าเส้นลวดวางอย่างไร  \n",
        "เช่นถ้าเส้นลวดวางอยู่บนแกน $y$ แปลว่า $x=0$ ทุกๆจุดบนบนเส้นลวดจะได้ว่าน้ำหนักของเส้นลวดนี้จะเท่ากับศูนย์  \n",
        "แต่ถ้าเส้นลวดวางอยู่บนแกน $x$ โดยเริ่มจาก $x=0$ ถึง $x=2$ เราจะเห็นว่าที่ต่ำแหน่งต่างๆบนเส้นลวดมีความหนาแน่นไม่เท่ากัน เราไม่สามารถเอาความหนาแน่นคูณความยาวได้ตรงๆ เพราะถ้าเราทำเช่นนั้นเราจะได้ได้ว่าน้ำหนักของเส้นลวดจะมีค่าเท่ากับ $x^2 \\times 2 = 2 x^2$kg ซึ่งเราไม่รู้ว่าค่านี้หมายความว่าอย่างไร ไม่สามารถรู้สึกได้ว่ามันหนักเท่าไหร่ ค่าที่ได้ต้องเป็นตัวเลขไม่ใช่ค่าที่ยังมีตัวแปร $x$ อยู่     \n"
      ]
    },
    {
      "cell_type": "markdown",
      "metadata": {
        "id": "_Lu8_81cC_3f"
      },
      "source": [
        "เราสามารถประมาณน้ำหนักได้โดยการแบ่งเส้นลวดเป็น $N$ ส่วนเท่าๆกัน โดยสมมุติว่าแต่ละส่วนมีความหนาแน่นคงที่เท่ากับค่าที่จุดกึ่งกลางของแต่ละส่วนเช่น  \n",
        "- ถ้าให้ $N=1$ เราจะได้ว่าความยาวของแต่ละชิ้นเท่ากับ 2 เมตร\n",
        "  - จุดกึ่งกลางของชิ่นที่ 1 อยู่ที่ $x = 1$ ความหน่าแน่นเท่ากับ $x^2 = 1^2$ kg/m    \n",
        "  - น้ำหนักเท่ากับ $1^2 \\times 2 =2$kg   \n",
        "- ถ้าให้ $N=2$ เราจะได้ว่าความยาวของแต่ละชิ้นเท่ากับ 1 เมตร\n",
        "  - จุดกึ่งกลางของชิ่นที่ 1 อยู่ที่ $x = 0.5$ ความหน่าแน่นเท่ากับ $x^2 = 0.5^2$ kg/m    \n",
        "  - จุดกึ่งกลางของชิ่นที่ 2 อยู่ที่ $x = 1.5$ ความหน่าแน่นเท่ากับ $x^2= 1.5^2$ kg/m    \n",
        "  - น้ำหนักเท่ากับ $0.5^2 \\times 1 + 1.5^2 \\times 1 = 2.5$ kg   \n",
        "- ถ้าให้ $N=4$ เราจะได้ว่าความยาวของแต่ละชิ้นเท่ากับ 0.5 เมตร\n",
        "  - จุดกึ่งกลางของชิ่นที่ 1 อยู่ที่ $x = 0.25$ ความหน่าแน่นเท่ากับ $x^2 = 0.25^2$ kg/m    \n",
        "  - จุดกึ่งกลางของชิ่นที่ 2 อยู่ที่ $x = 0.75$ ความหน่าแน่นเท่ากับ $x^2= 0.75^2$ kg/m    \n",
        "  - จุดกึ่งกลางของชิ่นที่ 3 อยู่ที่ $x = 1.25$ ความหน่าแน่นเท่ากับ $x^2= 1.25^2$ kg/m    \n",
        "  - จุดกึ่งกลางของชิ่นที่ 4 อยู่ที่ $x = 1.75$ ความหน่าแน่นเท่ากับ $x^2= 1.75^2$ kg/m  \n",
        "  - น้ำหนักเท่ากับ $0.25^2 \\times 0.5 + 0.75^2 \\times 0.5+1.25^2 \\times 0.5 + 1.75^2 \\times 0.5= 2.625$kg  \n",
        "\n",
        "\n",
        "ดังนั้นเราสามารถเขียนเป็นสมการได้ดังนี้ $W \\approx \\sum_{i=1}^N x_i^2 \\Delta x_i$  \n",
        "เราสามารถเขียนโปรแกรมได้ตาม Python Code ด้านล่าง\n"
      ]
    },
    {
      "cell_type": "code",
      "metadata": {
        "colab": {
          "base_uri": "https://localhost:8080/"
        },
        "id": "HWAKrxjxJ7DM",
        "outputId": "61fa6f78-23ce-4471-ab06-bbf64046ed7c"
      },
      "source": [
        "import numpy as np\n",
        "N = 4\n",
        "L = 2\n",
        "del_x = L/N\n",
        "x = del_x*np.array(range(N))+del_x/2\n",
        "print(x)\n",
        "weight = 0\n",
        "for ii in range(N):\n",
        "  weight = weight+(x[ii]**2)*del_x\n",
        "print(weight)"
      ],
      "execution_count": null,
      "outputs": [
        {
          "output_type": "stream",
          "name": "stdout",
          "text": [
            "[0.25 0.75 1.25 1.75]\n",
            "2.625\n"
          ]
        }
      ]
    },
    {
      "cell_type": "markdown",
      "metadata": {
        "id": "r2caJhrPLVpX"
      },
      "source": [
        "ทดลองปรับค่า N เป็นค่าต่างๆ"
      ]
    },
    {
      "cell_type": "code",
      "metadata": {
        "colab": {
          "base_uri": "https://localhost:8080/",
          "height": 265
        },
        "id": "-ET252crLY5k",
        "outputId": "6cb4a8ac-96d4-4e48-c1aa-62515ef8c4a1"
      },
      "source": [
        "import numpy as np\n",
        "import matplotlib.pyplot as plt\n",
        "N = 4\n",
        "L = 2\n",
        "w = []\n",
        "for N in range(1,11):\n",
        "  del_x = L/N\n",
        "  x = del_x*np.array(range(N))+del_x/2\n",
        "  # print(x)\n",
        "  weight = 0\n",
        "  for ii in range(N):\n",
        "    weight = weight+(x[ii]**2)*del_x\n",
        "  w.append(weight)\n",
        "plt.plot(range(1,11),w)\n",
        "plt.grid()\n",
        "plt.show()"
      ],
      "execution_count": null,
      "outputs": [
        {
          "output_type": "display_data",
          "data": {
            "image/png": "[encoded data removed]",
            "text/plain": [
              "<Figure size 432x288 with 1 Axes>"
            ]
          },
          "metadata": {
            "needs_background": "light"
          }
        }
      ]
    },
    {
      "cell_type": "markdown",
      "metadata": {
        "id": "2oU_s5vbLrhX"
      },
      "source": [
        "ถ้าเราให้ N มากขึ้นค่าน้ำหนักที่ได้จะลู่เข้าค่าจริง ถ้าเราต้องการค่าจริงเราต้องแบ่งเป็น $\\infty$ ส่วน เราจะได้สมการ $W = \\sum_{i=1}^\\infty x_i^2 \\Delta x_i$  \n",
        "เมื่อ $\\Delta x \\rightarrow 0$ เราจะได้ว่า $\\sum_{i=1}^\\infty \\rightarrow \\int$ และ $\\Delta x \\rightarrow d x$ ดังนั้น $W = \\int_{i=1}^{i= \\infty} x^2 d x$ และ $i=1$ คือ $x=0$ และ $i=\\infty$ คือ $x=2$ ดังนั้นเราจะได้สมการดังนี้     \n",
        "$$\n",
        "W = \\int_{x=0}^{x= 2} x^2 d x\n",
        "$$\n",
        "$$\n",
        "W =  \\frac{x^3}{3}|_{x=0}^{x= 2}\n",
        "$$\n",
        "$$\n",
        "W =  \\frac{2^3}{3}=\\frac{8}{3} = 2.67  \n",
        "$$  \n",
        "จะเห็นว่าถ้าเราประมาณโดยแบ่งเป็น 4 ส่วนเราได้ค่าเท่ากับ 2.625 ซึ่งมีความผิดพลาดเท่ากับ $100 \\frac{2.67-2.625}{2.67}=1.69$%\n",
        "\n"
      ]
    },
    {
      "cell_type": "code",
      "metadata": {
        "colab": {
          "base_uri": "https://localhost:8080/"
        },
        "id": "1b91Kf-fO-Z0",
        "outputId": "943745c6-1d62-4b08-9ad4-5cfb9a0b4366"
      },
      "source": [
        "100*(2.67-2.625)/(2.67)"
      ],
      "execution_count": null,
      "outputs": [
        {
          "output_type": "execute_result",
          "data": {
            "text/plain": [
              "1.6853932584269637"
            ]
          },
          "metadata": {},
          "execution_count": 12
        }
      ]
    }
  ]
}